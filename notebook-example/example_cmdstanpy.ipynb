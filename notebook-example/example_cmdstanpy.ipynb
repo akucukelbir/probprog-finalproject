{
 "cells": [
  {
   "cell_type": "markdown",
   "metadata": {
    "colab_type": "text",
    "id": "OMXhj0pRx83J",
    "tags": []
   },
   "source": [
    "# CmdStanPy Example Notebook"
   ]
  },
  {
   "cell_type": "code",
   "execution_count": 1,
   "metadata": {
    "colab": {},
    "colab_type": "code",
    "id": "S0Q1iNXoG808"
   },
   "outputs": [],
   "source": [
    "# Load packages used in this notebook\n",
    "import os\n",
    "import json\n",
    "import pandas as pd"
   ]
  },
  {
   "cell_type": "markdown",
   "metadata": {
    "colab_type": "text",
    "id": "ZWi7Uov0yeZO"
   },
   "source": [
    "Step 1: install CmdStanPy"
   ]
  },
  {
   "cell_type": "code",
   "execution_count": 2,
   "metadata": {
    "colab": {},
    "colab_type": "code",
    "id": "gbdHhsx_yeY3"
   },
   "outputs": [
    {
     "name": "stdout",
     "output_type": "stream",
     "text": [
      "Requirement already satisfied: cmdstanpy in /Users/alp/github/probprog-finalproject/venv/lib/python3.9/site-packages (0.9.77)\n",
      "Requirement already satisfied: numpy!=1.19.4,>=1.15 in /Users/alp/github/probprog-finalproject/venv/lib/python3.9/site-packages (from cmdstanpy) (1.21.2)\n",
      "Requirement already satisfied: pandas in /Users/alp/github/probprog-finalproject/venv/lib/python3.9/site-packages (from cmdstanpy) (1.3.3)\n",
      "Requirement already satisfied: ujson in /Users/alp/github/probprog-finalproject/venv/lib/python3.9/site-packages (from cmdstanpy) (4.1.0)\n",
      "Requirement already satisfied: pytz>=2017.3 in /Users/alp/github/probprog-finalproject/venv/lib/python3.9/site-packages (from pandas->cmdstanpy) (2021.1)\n",
      "Requirement already satisfied: python-dateutil>=2.7.3 in /Users/alp/github/probprog-finalproject/venv/lib/python3.9/site-packages (from pandas->cmdstanpy) (2.8.2)\n",
      "Requirement already satisfied: six>=1.5 in /Users/alp/github/probprog-finalproject/venv/lib/python3.9/site-packages (from python-dateutil>=2.7.3->pandas->cmdstanpy) (1.16.0)\n",
      "\u001b[33mWARNING: You are using pip version 20.2.3; however, version 21.2.4 is available.\n",
      "You should consider upgrading via the '/Users/alp/github/probprog-finalproject/venv/bin/python -m pip install --upgrade pip' command.\u001b[0m\n"
     ]
    }
   ],
   "source": [
    "# Install package CmdStanPy\n",
    "!pip install cmdstanpy"
   ]
  },
  {
   "cell_type": "markdown",
   "metadata": {
    "colab_type": "text",
    "id": "asoni75FzHsH"
   },
   "source": [
    "Step 2: install Stan itself"
   ]
  },
  {
   "cell_type": "code",
   "execution_count": 3,
   "metadata": {
    "colab": {},
    "colab_type": "code",
    "id": "Qbrn6pc_zgVg"
   },
   "outputs": [
    {
     "name": "stdout",
     "output_type": "stream",
     "text": [
      "Installing CmdStan version: 2.27.0\n",
      "Install directory: /Users/alp/.cmdstan\n",
      "CmdStan version 2.27.0 already installed\n",
      "deleting tmpfiles dir: /var/folders/zg/zlpj91s13w7566wy5qd0lg4w0000gn/T/tmpzta1adq5\n",
      "done\n",
      "\n"
     ]
    },
    {
     "data": {
      "text/plain": [
       "True"
      ]
     },
     "execution_count": 3,
     "metadata": {},
     "output_type": "execute_result"
    }
   ],
   "source": [
    "# Check CmdStan path\n",
    "from cmdstanpy import CmdStanModel, cmdstan_path, install_cmdstan\n",
    "install_cmdstan()"
   ]
  },
  {
   "cell_type": "markdown",
   "metadata": {},
   "source": [
    "Step 3: make sure path is `~/.cmdstan`"
   ]
  },
  {
   "cell_type": "code",
   "execution_count": 4,
   "metadata": {},
   "outputs": [
    {
     "data": {
      "text/plain": [
       "'/Users/alp/.cmdstan/cmdstan-2.27.0'"
      ]
     },
     "execution_count": 4,
     "metadata": {},
     "output_type": "execute_result"
    }
   ],
   "source": [
    "cmdstan_path()"
   ]
  },
  {
   "cell_type": "markdown",
   "metadata": {
    "colab_type": "text",
    "id": "axHFBvb_zlpT"
   },
   "source": [
    "The CmdStan installation includes a simple example program `bernoulli.stan` and test data `bernoulli.data.json`. These are in the CmdStan installation directory `examples/bernoulli`.\n",
    "\n",
    "The program `bernoulli.stan` takes a vector `y` of length `N` containing binary outcomes and uses a bernoulli distribution to estimate `theta`, the chance of success."
   ]
  },
  {
   "cell_type": "code",
   "execution_count": 5,
   "metadata": {
    "colab": {},
    "colab_type": "code",
    "id": "IKejoEF1z6kl"
   },
   "outputs": [
    {
     "name": "stdout",
     "output_type": "stream",
     "text": [
      "data {\n",
      "  int<lower=0> N;\n",
      "  array[N] int<lower=0,upper=1> y; // or int<lower=0,upper=1> y[N];\n",
      "}\n",
      "parameters {\n",
      "  real<lower=0,upper=1> theta;\n",
      "}\n",
      "model {\n",
      "  theta ~ beta(1,1);  // uniform prior on interval 0,1\n",
      "  y ~ bernoulli(theta);\n",
      "}\n"
     ]
    }
   ],
   "source": [
    "bernoulli_stan = os.path.join(cmdstan_path(), 'examples', 'bernoulli', 'bernoulli.stan')\n",
    "with open(bernoulli_stan, 'r') as fd:\n",
    "        print('\\n'.join(fd.read().splitlines()))"
   ]
  },
  {
   "cell_type": "markdown",
   "metadata": {
    "colab_type": "text",
    "id": "ueXvmFy8120t"
   },
   "source": [
    "The data file `bernoulli.data.json` contains 10 observations, split between 2 successes (1) and 8 failures (0)."
   ]
  },
  {
   "cell_type": "code",
   "execution_count": 6,
   "metadata": {
    "colab": {},
    "colab_type": "code",
    "id": "_WjtpDrJ159b"
   },
   "outputs": [
    {
     "name": "stdout",
     "output_type": "stream",
     "text": [
      "{\n",
      "    \"N\" : 10,\n",
      "    \"y\" : [0,1,0,0,0,0,0,0,0,1]\n",
      "}\n"
     ]
    }
   ],
   "source": [
    "bernoulli_data = os.path.join(cmdstan_path(), 'examples', 'bernoulli', 'bernoulli.data.json')\n",
    "with open(bernoulli_data, 'r') as fd:\n",
    "        print('\\n'.join(fd.read().splitlines()))"
   ]
  },
  {
   "cell_type": "markdown",
   "metadata": {
    "colab_type": "text",
    "id": "tNIwJV5v221e"
   },
   "source": [
    "The following code test that the CmdStanPy toolchain is properly installed by compiling the example model, fitting it to the data, and obtaining a summary of estimates of the posterior distribution of all parameters and quantities of interest.\n",
    "\n"
   ]
  },
  {
   "cell_type": "code",
   "execution_count": 7,
   "metadata": {
    "colab": {},
    "colab_type": "code",
    "id": "hyk_X__R0vJc"
   },
   "outputs": [
    {
     "name": "stderr",
     "output_type": "stream",
     "text": [
      "INFO:cmdstanpy:found newer exe file, not recompiling\n",
      "INFO:cmdstanpy:compiled model file: /Users/alp/.cmdstan/cmdstan-2.27.0/examples/bernoulli/bernoulli\n",
      "INFO:cmdstanpy:start chain 1\n",
      "INFO:cmdstanpy:start chain 2\n",
      "INFO:cmdstanpy:start chain 3\n",
      "INFO:cmdstanpy:start chain 4\n",
      "INFO:cmdstanpy:finish chain 1\n",
      "INFO:cmdstanpy:finish chain 2\n",
      "INFO:cmdstanpy:finish chain 3\n",
      "INFO:cmdstanpy:finish chain 4\n"
     ]
    }
   ],
   "source": [
    "# Run CmdStanPy Hello, World! example\n",
    "from cmdstanpy import cmdstan_path, CmdStanModel\n",
    "\n",
    "# Compile example model bernoulli.stan\n",
    "bernoulli_model = CmdStanModel(stan_file=bernoulli_stan)\n",
    "\n",
    "# Condition on example data bernoulli.data.json\n",
    "bern_fit = bernoulli_model.sample(data=bernoulli_data, seed=123)"
   ]
  },
  {
   "cell_type": "code",
   "execution_count": 8,
   "metadata": {
    "colab": {},
    "colab_type": "code",
    "id": "Nmqhy9E6_8K8"
   },
   "outputs": [
    {
     "data": {
      "text/html": [
       "<div>\n",
       "<style scoped>\n",
       "    .dataframe tbody tr th:only-of-type {\n",
       "        vertical-align: middle;\n",
       "    }\n",
       "\n",
       "    .dataframe tbody tr th {\n",
       "        vertical-align: top;\n",
       "    }\n",
       "\n",
       "    .dataframe thead th {\n",
       "        text-align: right;\n",
       "    }\n",
       "</style>\n",
       "<table border=\"1\" class=\"dataframe\">\n",
       "  <thead>\n",
       "    <tr style=\"text-align: right;\">\n",
       "      <th></th>\n",
       "      <th>Mean</th>\n",
       "      <th>MCSE</th>\n",
       "      <th>StdDev</th>\n",
       "      <th>5%</th>\n",
       "      <th>50%</th>\n",
       "      <th>95%</th>\n",
       "      <th>N_Eff</th>\n",
       "      <th>N_Eff/s</th>\n",
       "      <th>R_hat</th>\n",
       "    </tr>\n",
       "    <tr>\n",
       "      <th>name</th>\n",
       "      <th></th>\n",
       "      <th></th>\n",
       "      <th></th>\n",
       "      <th></th>\n",
       "      <th></th>\n",
       "      <th></th>\n",
       "      <th></th>\n",
       "      <th></th>\n",
       "      <th></th>\n",
       "    </tr>\n",
       "  </thead>\n",
       "  <tbody>\n",
       "    <tr>\n",
       "      <th>lp__</th>\n",
       "      <td>-7.30</td>\n",
       "      <td>0.0170</td>\n",
       "      <td>0.71</td>\n",
       "      <td>-8.70</td>\n",
       "      <td>-7.00</td>\n",
       "      <td>-6.80</td>\n",
       "      <td>1700.0</td>\n",
       "      <td>29000.0</td>\n",
       "      <td>1.0</td>\n",
       "    </tr>\n",
       "    <tr>\n",
       "      <th>theta</th>\n",
       "      <td>0.25</td>\n",
       "      <td>0.0029</td>\n",
       "      <td>0.12</td>\n",
       "      <td>0.08</td>\n",
       "      <td>0.23</td>\n",
       "      <td>0.47</td>\n",
       "      <td>1700.0</td>\n",
       "      <td>29000.0</td>\n",
       "      <td>1.0</td>\n",
       "    </tr>\n",
       "  </tbody>\n",
       "</table>\n",
       "</div>"
      ],
      "text/plain": [
       "       Mean    MCSE  StdDev    5%   50%   95%   N_Eff  N_Eff/s  R_hat\n",
       "name                                                                 \n",
       "lp__  -7.30  0.0170    0.71 -8.70 -7.00 -6.80  1700.0  29000.0    1.0\n",
       "theta  0.25  0.0029    0.12  0.08  0.23  0.47  1700.0  29000.0    1.0"
      ]
     },
     "execution_count": 8,
     "metadata": {},
     "output_type": "execute_result"
    }
   ],
   "source": [
    "# Print a summary of the posterior sample\n",
    "bern_fit.summary()"
   ]
  },
  {
   "cell_type": "code",
   "execution_count": null,
   "metadata": {},
   "outputs": [],
   "source": []
  }
 ],
 "metadata": {
  "colab": {
   "collapsed_sections": [],
   "include_colab_link": true,
   "name": "CmdStanPy_example_notebook.ipynb",
   "provenance": []
  },
  "kernelspec": {
   "display_name": "Python 3 (ipykernel)",
   "language": "python",
   "name": "python3"
  },
  "language_info": {
   "codemirror_mode": {
    "name": "ipython",
    "version": 3
   },
   "file_extension": ".py",
   "mimetype": "text/x-python",
   "name": "python",
   "nbconvert_exporter": "python",
   "pygments_lexer": "ipython3",
   "version": "3.9.4"
  }
 },
 "nbformat": 4,
 "nbformat_minor": 4
}
