{
 "cells": [
  {
   "cell_type": "code",
   "execution_count": 8,
   "metadata": {},
   "outputs": [
    {
     "data": {
      "text/html": [
       "        <script type=\"text/javascript\">\n",
       "        window.PlotlyConfig = {MathJaxConfig: 'local'};\n",
       "        if (window.MathJax) {MathJax.Hub.Config({SVG: {font: \"STIX-Web\"}});}\n",
       "        if (typeof require !== 'undefined') {\n",
       "        require.undef(\"plotly\");\n",
       "        requirejs.config({\n",
       "            paths: {\n",
       "                'plotly': ['https://cdn.plot.ly/plotly-latest.min']\n",
       "            }\n",
       "        });\n",
       "        require(['plotly'], function(Plotly) {\n",
       "            window._Plotly = Plotly;\n",
       "        });\n",
       "        }\n",
       "        </script>\n",
       "        "
      ]
     },
     "metadata": {},
     "output_type": "display_data"
    }
   ],
   "source": [
    "import sys\n",
    "sys.path.append('../')\n",
    "import helper_functions.ppc as ppc\n",
    "import pyro\n",
    "from pyro import plate\n",
    "import pyro.distributions as dist\n",
    "import pyro.contrib.autoguide as autoguide\n",
    "from pyro.infer import MCMC, NUTS, SVI, Trace_ELBO, Predictive\n",
    "import pyro.optim as optim\n",
    "import numpy as np\n",
    "import scipy.signal as signal\n",
    "import pandas as pd \n",
    "import matplotlib.pyplot as plt\n",
    "import torch\n",
    "import plotly.express as px\n",
    "import plotly.graph_objects as go\n",
    "import datetime\n",
    "import folium\n",
    "import seaborn as sns\n",
    "from folium.plugins import FastMarkerCluster, HeatMap\n",
    "from plotly.offline import init_notebook_mode, iplot\n",
    "from torch.distributions.constraints import positive\n",
    "\n",
    "init_notebook_mode(connected=True)\n",
    "FIRST_DAY = datetime.datetime(2014,1,1)\n"
   ]
  },
  {
   "cell_type": "markdown",
   "metadata": {},
   "source": [
    "First we will fit a simple linear model to our data to see how it performs. This will consist of no structured componenets, nor any additional covariates or predictors. It will be used as the baseline with respect to which we can evaluate all of our additional models. To do so first we will take a quick look at our data. "
   ]
  },
  {
   "cell_type": "code",
   "execution_count": 9,
   "metadata": {},
   "outputs": [],
   "source": [
    "def transform_dataframe(df): \n",
    "    \"\"\"\n",
    "    Transforms dataframe with ``datetime`` and ``node`` cols \n",
    "    Into [day,node] nd.array where arr[i][j] indicates\n",
    "    accidents in location i at j day \n",
    "    Returns accident array\n",
    "    \"\"\"\n",
    "    #Categories for classifying the codes\n",
    "    df = df.copy()\n",
    "    \n",
    "    categorical = pd.Categorical(df['node'])\n",
    "    codes = categorical.codes\n",
    "\n",
    "    num_days = (df['datetime'].iloc[-1] - FIRST_DAY).days + 1\n",
    "    num_nodes = len(categorical.categories)\n",
    "\n",
    "    data_arr = np.zeros((num_nodes, num_days))\n",
    "    for elem, i in zip(df.itertuples(),range(len(df))): \n",
    "        data_arr[codes[i]][(elem.datetime - FIRST_DAY).days] += 1\n",
    "    \n",
    "    category_mapping = {}\n",
    "    for node, idx in zip(categorical, categorical.codes):\n",
    "        category_mapping[node] = idx \n",
    "    \n",
    "    return num_days, category_mapping, data_arr\n"
   ]
  },
  {
   "cell_type": "code",
   "execution_count": 10,
   "metadata": {},
   "outputs": [
    {
     "data": {
      "text/html": [
       "<div>\n",
       "<style scoped>\n",
       "    .dataframe tbody tr th:only-of-type {\n",
       "        vertical-align: middle;\n",
       "    }\n",
       "\n",
       "    .dataframe tbody tr th {\n",
       "        vertical-align: top;\n",
       "    }\n",
       "\n",
       "    .dataframe thead th {\n",
       "        text-align: right;\n",
       "    }\n",
       "</style>\n",
       "<table border=\"1\" class=\"dataframe\">\n",
       "  <thead>\n",
       "    <tr style=\"text-align: right;\">\n",
       "      <th></th>\n",
       "      <th>Unnamed: 0</th>\n",
       "      <th>datetime</th>\n",
       "      <th>longitude</th>\n",
       "      <th>latitude</th>\n",
       "      <th>node</th>\n",
       "    </tr>\n",
       "  </thead>\n",
       "  <tbody>\n",
       "    <tr>\n",
       "      <th>65727</th>\n",
       "      <td>257388</td>\n",
       "      <td>2014-01-01 00:01:00</td>\n",
       "      <td>-73.981512</td>\n",
       "      <td>40.767889</td>\n",
       "      <td>4347550071</td>\n",
       "    </tr>\n",
       "    <tr>\n",
       "      <th>65728</th>\n",
       "      <td>257389</td>\n",
       "      <td>2014-01-01 00:01:00</td>\n",
       "      <td>-73.978608</td>\n",
       "      <td>40.750844</td>\n",
       "      <td>561042199</td>\n",
       "    </tr>\n",
       "    <tr>\n",
       "      <th>65729</th>\n",
       "      <td>257390</td>\n",
       "      <td>2014-01-01 00:01:00</td>\n",
       "      <td>-73.996771</td>\n",
       "      <td>40.725432</td>\n",
       "      <td>1919595915</td>\n",
       "    </tr>\n",
       "    <tr>\n",
       "      <th>65731</th>\n",
       "      <td>257412</td>\n",
       "      <td>2014-01-01 02:00:00</td>\n",
       "      <td>-73.965784</td>\n",
       "      <td>40.758633</td>\n",
       "      <td>42442960</td>\n",
       "    </tr>\n",
       "    <tr>\n",
       "      <th>65732</th>\n",
       "      <td>257414</td>\n",
       "      <td>2014-01-01 02:02:00</td>\n",
       "      <td>-73.944677</td>\n",
       "      <td>40.791570</td>\n",
       "      <td>42450057</td>\n",
       "    </tr>\n",
       "    <tr>\n",
       "      <th>...</th>\n",
       "      <td>...</td>\n",
       "      <td>...</td>\n",
       "      <td>...</td>\n",
       "      <td>...</td>\n",
       "      <td>...</td>\n",
       "    </tr>\n",
       "    <tr>\n",
       "      <th>335808</th>\n",
       "      <td>1520426</td>\n",
       "      <td>2020-10-30 20:15:00</td>\n",
       "      <td>-73.988520</td>\n",
       "      <td>40.745200</td>\n",
       "      <td>42428223</td>\n",
       "    </tr>\n",
       "    <tr>\n",
       "      <th>335809</th>\n",
       "      <td>1520434</td>\n",
       "      <td>2020-10-30 20:44:00</td>\n",
       "      <td>-73.949486</td>\n",
       "      <td>40.772705</td>\n",
       "      <td>42428024</td>\n",
       "    </tr>\n",
       "    <tr>\n",
       "      <th>335810</th>\n",
       "      <td>1520445</td>\n",
       "      <td>2020-10-30 21:46:00</td>\n",
       "      <td>-73.975840</td>\n",
       "      <td>40.748863</td>\n",
       "      <td>42445661</td>\n",
       "    </tr>\n",
       "    <tr>\n",
       "      <th>335811</th>\n",
       "      <td>1520450</td>\n",
       "      <td>2020-10-30 22:15:00</td>\n",
       "      <td>-73.920616</td>\n",
       "      <td>40.866760</td>\n",
       "      <td>42431242</td>\n",
       "    </tr>\n",
       "    <tr>\n",
       "      <th>335812</th>\n",
       "      <td>1520461</td>\n",
       "      <td>2020-10-30 23:45:00</td>\n",
       "      <td>-73.988365</td>\n",
       "      <td>40.720074</td>\n",
       "      <td>42437096</td>\n",
       "    </tr>\n",
       "  </tbody>\n",
       "</table>\n",
       "<p>220355 rows × 5 columns</p>\n",
       "</div>"
      ],
      "text/plain": [
       "        Unnamed: 0            datetime  longitude   latitude        node\n",
       "65727       257388 2014-01-01 00:01:00 -73.981512  40.767889  4347550071\n",
       "65728       257389 2014-01-01 00:01:00 -73.978608  40.750844   561042199\n",
       "65729       257390 2014-01-01 00:01:00 -73.996771  40.725432  1919595915\n",
       "65731       257412 2014-01-01 02:00:00 -73.965784  40.758633    42442960\n",
       "65732       257414 2014-01-01 02:02:00 -73.944677  40.791570    42450057\n",
       "...            ...                 ...        ...        ...         ...\n",
       "335808     1520426 2020-10-30 20:15:00 -73.988520  40.745200    42428223\n",
       "335809     1520434 2020-10-30 20:44:00 -73.949486  40.772705    42428024\n",
       "335810     1520445 2020-10-30 21:46:00 -73.975840  40.748863    42445661\n",
       "335811     1520450 2020-10-30 22:15:00 -73.920616  40.866760    42431242\n",
       "335812     1520461 2020-10-30 23:45:00 -73.988365  40.720074    42437096\n",
       "\n",
       "[220355 rows x 5 columns]"
      ]
     },
     "execution_count": 10,
     "metadata": {},
     "output_type": "execute_result"
    }
   ],
   "source": [
    "accident_filename = '../data/manhattan_accidents_node_data.csv'\n",
    "node_filename = '../data/nodes_roads.csv'\n",
    "\n",
    "\n",
    "data = pd.read_csv(accident_filename)\n",
    "node_data = pd.read_csv(node_filename)\n",
    "\n",
    "#Only consider accident with node that have corresponding AADT\n",
    "data = data[data['node'].isin(list(node_data['nodes'].unique()))]\n",
    "\n",
    "#Only consider accidents after 2014\n",
    "data['datetime'] = pd.to_datetime(data['datetime'])\n",
    "data = data[data['datetime'] >= FIRST_DAY]\n",
    "\n",
    "#This is done to get rid of pesky column. \n",
    "data"
   ]
  },
  {
   "cell_type": "markdown",
   "metadata": {},
   "source": [
    "First we can divide the data between a training and test set. To do this we can simply take the time up to year 2016 and then consider everything else validation.  Moreover we will re-organize our data so that we can work with it a comfortable way later on. "
   ]
  },
  {
   "cell_type": "code",
   "execution_count": 11,
   "metadata": {
    "tags": []
   },
   "outputs": [
    {
     "data": {
      "text/plain": [
       "array([[0., 0., 0., ..., 0., 0., 0.],\n",
       "       [0., 0., 0., ..., 0., 0., 0.],\n",
       "       [0., 0., 0., ..., 0., 0., 0.],\n",
       "       ...,\n",
       "       [0., 0., 0., ..., 0., 0., 0.],\n",
       "       [0., 0., 0., ..., 0., 0., 0.],\n",
       "       [0., 0., 0., ..., 0., 0., 0.]])"
      ]
     },
     "execution_count": 11,
     "metadata": {},
     "output_type": "execute_result"
    }
   ],
   "source": [
    "num_days, categorical_mapping, data_mat = transform_dataframe(data)\n",
    "\n",
    "num_years_test = 2\n",
    "num_years_train = 3\n",
    "\n",
    "index_train = 365 * num_years_train\n",
    "index_valid = index_train + 365 * num_years_test\n",
    "\n",
    "train_mat = data_mat[:, :index_train]\n",
    "test_mat = data_mat[:, index_train: index_valid]\n",
    "data_mat"
   ]
  },
  {
   "cell_type": "markdown",
   "metadata": {},
   "source": [
    "To understand the data that we have we can plot several visualizations. First we will plot the points in the map so that we can see what type of data we are dealing with. "
   ]
  },
  {
   "cell_type": "code",
   "execution_count": null,
   "metadata": {
    "tags": []
   },
   "outputs": [],
   "source": [
    "m = folium.Map(location=[40.7, -74.05], zoom_start=10)\n",
    "\n",
    "subset = data[['latitude','longitude']][:].values.tolist()\n",
    "m.add_child(FastMarkerCluster(subset))\n",
    "\n",
    "\n",
    "m"
   ]
  },
  {
   "cell_type": "markdown",
   "metadata": {},
   "source": [
    "In addition to being able to visualize the points independently it is also helpful to visualize the points in a heat map to understand if there are any spatial correlations that we should be mindful of. As the map shows, there are definitely some areas that seem to be more likely to have accidents than others. \n"
   ]
  },
  {
   "cell_type": "code",
   "execution_count": null,
   "metadata": {},
   "outputs": [],
   "source": [
    "m = folium.Map(location=[40.7, -74.05], zoom_start=10)\n",
    "\n",
    "subset = data[['latitude','longitude']][:].values.tolist()\n",
    "m.add_children(HeatMap(subset, radius = 7.5))\n",
    "m\n"
   ]
  },
  {
   "cell_type": "markdown",
   "metadata": {},
   "source": [
    "One important thing to understand and which will be key later on is whether there exists some general trends on accidents through time. Of course, it is possible that for some sites some of these trends are present while for some others these trends don't exist. However, for the moment we will only consider whether for manhattan as whole these trends exist. "
   ]
  },
  {
   "cell_type": "code",
   "execution_count": null,
   "metadata": {},
   "outputs": [],
   "source": [
    "time_accidents = np.sum(data_mat, axis = 0)\n",
    "smooth_accidents = signal.savgol_filter(time_accidents,61, 3)\n",
    "time = list(range(len(time_accidents)))\n",
    "fig = go.Figure()\n",
    "fig.add_trace(go.Scatter(x=time,y=time_accidents, mode='lines',name='Raw accidents'))\n",
    "fig.add_trace(go.Scatter(x=time,y=smooth_accidents,mode='lines',name='Smooth accidents'))\n",
    "fig.show()\n"
   ]
  },
  {
   "cell_type": "code",
   "execution_count": null,
   "metadata": {},
   "outputs": [],
   "source": []
  },
  {
   "cell_type": "markdown",
   "metadata": {},
   "source": [
    "Now, there are two "
   ]
  },
  {
   "cell_type": "code",
   "execution_count": null,
   "metadata": {},
   "outputs": [],
   "source": [
    "mean_accidents = np.sum(train_mat, axis = 1)/len(train_mat)\n",
    "sns.displot(pd.DataFrame({'mean accidents':mean_accidents}), x='mean accidents', kind = 'kde')\n",
    "\n"
   ]
  },
  {
   "cell_type": "code",
   "execution_count": null,
   "metadata": {},
   "outputs": [],
   "source": [
    "mean_accidents = np.sum(train_mat, axis = 1)/len(train_mat)\n",
    "sns.displot(pd.DataFrame({'log mean accidents':np.log(mean_accidents + 0.000000000001/len(mean_accidents))}), x='log mean accidents', kind = 'kde', ax=1)"
   ]
  },
  {
   "cell_type": "markdown",
   "metadata": {},
   "source": [
    "Now we will specify our model. Our first model is that both the risk and exposure at each individual site will be constant through time. This is a very crude approximation but it will serve as a simple baseline that we can use for our evaluation. Mathematically, we can state is as follows. Let $j \\in [n]$ where $n$ denotes the number of days. Let $i \\in [m]$ where $m$ denotes the number of sites. Let $Y_{ij}$ the number of accidents at site $i$ during during day $j$. Then we assume that \n",
    "\\begin{align*}\n",
    "\\beta &\\sim \\mathcal{N}(0,I_m)\\\\\n",
    "Y_{ij} &\\sim \\text{Poisson}(\\exp(\\beta_i))\n",
    "\\end{align*}\n",
    "Having specified this, we can simply write down our model and then do inference. Because the betas are independent here, then it would make sense to specify a guide where all of the parameters are normal. This can be done quite easily with an autoguide. "
   ]
  },
  {
   "cell_type": "code",
   "execution_count": 16,
   "metadata": {},
   "outputs": [],
   "source": [
    "num_sites = train_mat.shape[0]\n",
    "num_days = train_mat.shape[1]\n",
    "\n",
    "def base_model(num_sites, num_days, data=None):\n",
    "    with plate('sites', size=num_sites, dim=-2):\n",
    "        epsilon = pyro.sample('epsilon', dist.Normal(-5, 3))\n",
    "        with plate('days', size=num_days, dim=-1):\n",
    "            accidents = pyro.sample('accidents', dist.Poisson(torch.exp(epsilon)), obs=data)\n",
    "            \n",
    "    return accidents\n"
   ]
  },
  {
   "cell_type": "code",
   "execution_count": null,
   "metadata": {},
   "outputs": [],
   "source": [
    "guide = autoguide.AutoDiagonalNormal(base_model)\n",
    "optimizer = optim.Adam({'lr': .05})\n",
    "num_iters = 500\n",
    "\n",
    "svi = SVI(base_model, guide, optimizer,loss=Trace_ELBO())\n",
    "\n",
    "pyro.clear_param_store()\n",
    "losses = []\n",
    "train_mat_tens = torch.tensor(train_mat)\n",
    "for i in range(num_iters): \n",
    "    elbo = svi.step(num_sites, num_days, train_mat_tens)\n",
    "    losses.append(elbo)\n",
    "    if i % 50 == 0: \n",
    "        print(\"In step {} the Elbo is {}\".format(i,elbo))"
   ]
  },
  {
   "cell_type": "code",
   "execution_count": null,
   "metadata": {},
   "outputs": [],
   "source": [
    "elbo_df = pd.DataFrame({'Iteration': list(range(len(losses))), 'Loss': np.log(losses[:])})\n",
    "fig = px.line(elbo_df, x='Iteration', y='Loss', title='Elbo')\n",
    "fig.show()"
   ]
  },
  {
   "cell_type": "code",
   "execution_count": null,
   "metadata": {},
   "outputs": [],
   "source": [
    "predict = Predict(base_model,guide, 800)\n",
    "samples = predict(num_sites, num_days)"
   ]
  },
  {
   "cell_type": "code",
   "execution_count": null,
   "metadata": {},
   "outputs": [],
   "source": [
    "subset = torch.distributions.Categorical(torch.ones(4,num_sites)/num_sites).sample()\n",
    "print(subset)\n",
    "ppc.plot_total_distributions(samples['accidents'].detach().numpy(),train_mat,(2,2),subset)"
   ]
  },
  {
   "cell_type": "markdown",
   "metadata": {},
   "source": [
    "Naturally, the next step is to import predictor data. This would include both intersection-level data such as AADT and day-level data such as weather."
   ]
  },
  {
   "cell_type": "code",
   "execution_count": null,
   "metadata": {},
   "outputs": [],
   "source": [
    "def transform_nodes_dataframe(categorical_mapping, df): \n",
    "    \"\"\"\n",
    "    Transforms dataframe with ``node`` and corresponding predictor cols \n",
    "    Into [day,node,predictor] nd.array where arr[j][i][k] indicates\n",
    "    predictor k in location i at j day \n",
    "    Returns predictors tensor\n",
    "    \"\"\"\n",
    "    #Categories for classifying the codes\n",
    "    df = df.copy()\n",
    "    \n",
    "    df = df.replace({'nodes': categorical_mapping})\n",
    "\n",
    "    num_nodes = len(categorical_mapping.keys())\n",
    "    \n",
    "    data_arr = np.zeros((num_nodes, num_days, 2))\n",
    "    for i in range(len(df)): \n",
    "        if df['nodes'][i] >= 0 and df['nodes'][i] <= data_arr.shape[0]:\n",
    "            data_arr[df['nodes'][i], :, 0] = 1\n",
    "            data_arr[df['nodes'][i], :, 1] = df['Count_mean'][i]\n",
    "    return data_arr\n",
    "\n",
    "\n",
    "predictors = transform_nodes_dataframe(categorical_mapping, node_data)\n"
   ]
  },
  {
   "cell_type": "code",
   "execution_count": null,
   "metadata": {},
   "outputs": [],
   "source": [
    "node_data"
   ]
  },
  {
   "cell_type": "markdown",
   "metadata": {},
   "source": [
    "The model that we use now is gonna be different. Before, we had all of our risk and exposure at a crash site modeled by one term per site. Here we introduce several modifications and choose the following model instead. As before, let $Y_{ij}$ denote the number of car crashes at site $i$ on day $j$. Now we introduce a variable $theta_{ij}$  which we will call the risk at site $i$ on day $j$ of a crash and a variable $\\lambda_{ij}$ which we call the exposure at site $i$ on day $j$. This exporsure, is associated with the number of cars that pass through a given site on a day. Intuitively, the more cars that pass through some site on a day. Our model then is \n",
    "\n"
   ]
  },
  {
   "cell_type": "code",
   "execution_count": null,
   "metadata": {},
   "outputs": [],
   "source": [
    "predictors[:,:,1] = np.log(predictors[:,:,1])"
   ]
  },
  {
   "cell_type": "code",
   "execution_count": null,
   "metadata": {},
   "outputs": [],
   "source": [
    "def aadt_model(num_sites, num_days, num_predictors,predictors, data=None):\n",
    "    betas = pyro.sample('betas', dist.Normal(0 * torch.ones(num_predictors), 2 * torch.ones(num_predictors)))\n",
    "    thetas = predictors @ betas\n",
    "    with plate('sites', size=num_sites, dim=-2):\n",
    "        epsilon = pyro.sample('epsilon', dist.Normal(0, 5)).expand(num_sites, num_days)\n",
    "        with plate('days', size=num_days, dim=-1):\n",
    "            thetas = thetas + epsilon\n",
    "            accidents = pyro.sample('accidents', dist.Poisson(torch.exp(thetas)), obs=data) \n",
    "\n",
    "    return accidents"
   ]
  },
  {
   "cell_type": "code",
   "execution_count": null,
   "metadata": {},
   "outputs": [],
   "source": [
    "aadt_model_guide = autoguide.AutoDiagonalNormal(aadt_model)\n",
    "num_iters = 1000\n",
    "optimizer = torch.optim.Adam\n",
    "optim_args = {'lr': 0.05}\n",
    "optim_params = {\n",
    "    'optimizer': optimizer,\n",
    "    'optim_args':optim_args, \n",
    "    'step_size': 200,\n",
    "    'gamma':0.1,\n",
    "    'verbose':True}\n",
    "scheduler = optim.StepLR(optim_params)\n",
    "\n",
    "svi = SVI(aadt_model, aadt_model_guide, scheduler,loss=Trace_ELBO())\n",
    "\n",
    "pyro.clear_param_store()\n",
    "losses = []\n",
    "train_mat_tens = torch.tensor(train_mat)\n",
    "predictors_tens = torch.tensor(predictors).float()\n",
    "covariates = predictors_tens\n",
    "for i in range(num_iters): \n",
    "    elbo = svi.step(num_sites, num_days, 2, predictors_tens, train_mat_tens)\n",
    "    losses.append(elbo)\n",
    "    if i % 50 == 0: \n",
    "        print(\"In step {} the Elbo is {}\".format(i,elbo))"
   ]
  },
  {
   "cell_type": "code",
   "execution_count": null,
   "metadata": {},
   "outputs": [],
   "source": [
    "elbo_df = pd.DataFrame({'Iteration': list(range(len(losses))), 'log-loss': np.log(losses[:])})\n",
    "fig = px.line(elbo_df, x='Iteration', y='log-loss', title='Elbo')\n",
    "fig.show()"
   ]
  },
  {
   "cell_type": "code",
   "execution_count": null,
   "metadata": {},
   "outputs": [],
   "source": [
    "# This should go in an independent file \n",
    "from collections import defaultdict\n",
    "from pyro import poutine\n",
    "from pyro.poutine.util import prune_subsample_sites\n",
    "import warnings\n",
    "\n",
    "class Predict(torch.nn.Module):\n",
    "    def __init__(self, model, guide, num_samples=800):\n",
    "        super().__init__()\n",
    "        self.model = model\n",
    "        self.guide = guide\n",
    "        self.num_samples = num_samples\n",
    "\n",
    "    def forward(self, *args, **kwargs):\n",
    "        total_samples = {}\n",
    "        for i in range(self.num_samples): \n",
    "            if i % 50 == 0: \n",
    "                print(\"done with {}\".format(i))\n",
    "            guide_trace = poutine.trace(self.guide).get_trace(*args, **kwargs)\n",
    "            model_trace = poutine.trace(poutine.replay(self.model, guide_trace)).get_trace(*args, **kwargs)\n",
    "            for site in prune_subsample_sites(model_trace).stochastic_nodes:\n",
    "                if site not in total_samples: \n",
    "                    total_samples[site] = []\n",
    "                total_samples[site].append(model_trace.nodes[site]['value'])\n",
    "        for key in total_samples.keys():\n",
    "            total_samples[key] = torch.stack(total_samples[key])\n",
    "\n",
    "        return total_samples\n",
    "    \n",
    "\n",
    "def summary(samples):\n",
    "    site_stats = {}\n",
    "    for k, v in samples.items():\n",
    "        site_stats[k] = {\n",
    "            \"mean\": torch.mean(v, 0),\n",
    "            \"std\": torch.std(v, 0),\n",
    "            \"5%\": v.kthvalue(int(len(v) * 0.05), dim=0)[0],\n",
    "            \"95%\": v.kthvalue(int(len(v) * 0.95), dim=0)[0],\n",
    "        }\n",
    "    return site_stats"
   ]
  },
  {
   "cell_type": "code",
   "execution_count": null,
   "metadata": {},
   "outputs": [],
   "source": [
    "num_predictors = 2\n",
    "predict = Predict(aadt_model,aadt_model_guide, 400)\n",
    "samples = predict(num_sites, num_days, num_predictors, predictors_tens)\n"
   ]
  },
  {
   "cell_type": "code",
   "execution_count": null,
   "metadata": {},
   "outputs": [],
   "source": [
    "sns.displot(samples['betas'][:,0].detach().numpy())"
   ]
  },
  {
   "cell_type": "code",
   "execution_count": null,
   "metadata": {},
   "outputs": [],
   "source": [
    "subset = torch.distributions.Categorical(torch.ones(4,num_sites)/num_sites).sample()\n",
    "print(subset)\n",
    "ppc.plot_total_distributions(samples['accidents'].detach().numpy(),train_mat,(2,2),subset)"
   ]
  },
  {
   "cell_type": "code",
   "execution_count": null,
   "metadata": {},
   "outputs": [],
   "source": [
    "ppc.plot_max(samples['accidents'].detach().numpy(), train_mat)"
   ]
  },
  {
   "cell_type": "code",
   "execution_count": null,
   "metadata": {},
   "outputs": [],
   "source": [
    "def add_weather_predictors(predictors, df):\n",
    "    df = df.copy()\n",
    "    new_predictors = np.zeros((predictors.shape[0], predictors.shape[1], 6))\n",
    "    df['datetime'] = pd.to_datetime(df['DATE'])\n",
    "    for elem in df.itertuples():\n",
    "        idx = (elem.datetime - FIRST_DAY).days\n",
    "        \n",
    "        if idx >= 0 and idx < new_predictors.shape[1]:\n",
    "            new_predictors[:, idx, 2:] = [elem.AWND, elem.PRCP, elem.SNWD, elem.TAVG]\n",
    "    new_predictors[:, :, :2] = predictors\n",
    "    return new_predictors\n",
    "weather_data = pd.read_csv('../data/weather.csv')\n",
    "new_predictors = add_weather_predictors(predictors, weather_data)\n",
    "\n",
    "# Step to normalize the variables to be between -1 and 1\n",
    "new_predictors = new_predictors/np.max(np.abs(new_predictors[0]), axis = 0)"
   ]
  },
  {
   "cell_type": "code",
   "execution_count": null,
   "metadata": {},
   "outputs": [],
   "source": [
    "weather_data"
   ]
  },
  {
   "cell_type": "code",
   "execution_count": null,
   "metadata": {},
   "outputs": [],
   "source": [
    "aadt_model_guide = autoguide.AutoDiagonalNormal(aadt_model)\n",
    "num_iters = 1000\n",
    "optimizer = torch.optim.Adam\n",
    "optim_args = {'lr': 0.05}\n",
    "optim_params = {\n",
    "    'optimizer': optimizer,\n",
    "    'optim_args':optim_args, \n",
    "    'step_size': 200,\n",
    "    'gamma':0.1,\n",
    "    'verbose':True}\n",
    "scheduler = optim.StepLR(optim_params)\n",
    "\n",
    "svi = SVI(aadt_model, aadt_model_guide, scheduler,loss=Trace_ELBO())\n",
    "\n",
    "pyro.clear_param_store()\n",
    "losses = []\n",
    "train_mat_tens = torch.tensor(train_mat)\n",
    "predictors_tens = torch.tensor(new_predictors).float()\n",
    "num_predictors = predictors_tens.shape[-1]\n",
    "for i in range(num_iters): \n",
    "    elbo = svi.step(num_sites, num_days, num_predictors, predictors_tens, train_mat_tens)\n",
    "    losses.append(elbo)\n",
    "    if i % 50 == 0: \n",
    "        print(\"In step {} the Elbo is {}\".format(i,elbo))\n"
   ]
  },
  {
   "cell_type": "code",
   "execution_count": null,
   "metadata": {},
   "outputs": [],
   "source": [
    "elbo_df = pd.DataFrame({'Iteration': list(range(len(losses))), 'log-loss': np.log(losses[:])})\n",
    "fig = px.line(elbo_df, x='Iteration', y='log-loss', title='Elbo')\n",
    "fig.show()"
   ]
  },
  {
   "cell_type": "code",
   "execution_count": null,
   "metadata": {},
   "outputs": [],
   "source": [
    "predict = Predict(aadt_model,aadt_model_guide, 300)\n",
    "samples = predict(num_sites, num_days, num_predictors, predictors_tens)"
   ]
  },
  {
   "cell_type": "code",
   "execution_count": null,
   "metadata": {},
   "outputs": [],
   "source": [
    "subset = torch.distributions.Categorical(torch.ones(4,num_sites)/num_sites).sample()\n",
    "print(subset)\n",
    "ppc.plot_total_distributions(samples_read['accidents'].detach().numpy(),train_mat,(2,2),subset)"
   ]
  },
  {
   "cell_type": "code",
   "execution_count": null,
   "metadata": {},
   "outputs": [],
   "source": [
    "import pickle \n",
    "\n",
    "accidents = samples['accidents'][:100].detach().numpy()\n",
    "np.savez_compressed('accidents.npz', accidents)"
   ]
  },
  {
   "cell_type": "code",
   "execution_count": null,
   "metadata": {},
   "outputs": [],
   "source": [
    "sns.displot(samples['betas'][:,2].detach().numpy(),kde=True)"
   ]
  },
  {
   "cell_type": "code",
   "execution_count": null,
   "metadata": {},
   "outputs": [],
   "source": [
    "ppc.plot_max(samples['accidents'].detach().numpy(),train_mat)"
   ]
  },
  {
   "cell_type": "code",
   "execution_count": null,
   "metadata": {},
   "outputs": [],
   "source": [
    "ppc.plot_time_trend(samples['accidents'].detach().numpy(),train_mat, window=31, polynomial=10)"
   ]
  },
  {
   "cell_type": "markdown",
   "metadata": {},
   "source": [
    "From the ppc plots it is evident that there are several things that could be improved. On the one hand we can see that our model is not good enough at producing the high crash results that we see in the data. This indicates that the distribution that we use to model the crashes should perhaps not be Poisson. Additionally, we see that the weather is not enough to capture all of the seasonality that we see. These two insights by the ppc plots can help us revisit our model. We will go with both modifications separately. First, we will us"
   ]
  },
  {
   "cell_type": "code",
   "execution_count": null,
   "metadata": {},
   "outputs": [],
   "source": [
    "accidents_samples = samples['accidents'].detach().numpy()"
   ]
  },
  {
   "cell_type": "markdown",
   "metadata": {},
   "source": [
    "### Dealing with the heavier tails\n",
    "As we can see, we do have heavier tails than the poisson distribution would lead us to believe. One possible solution is to use a negative binomial distribution. This distribution resembles the poisson (in fact the poisson is a limiting case of it) but has more parameters that allow us to control the dispersion. In particular, it can be parametrized by the mean of the distribution and a parameter $p \\in [0,1]$ (this parametrization is not standard but is useful for our purspose). Under this paramterization it can be shown that the excess kurtosis, which is a measurment of the heaviness of the tails, is given by \n",
    "$$ \\frac{1}{\\lambda} \\frac{1}{1/p -1}(6 + (1-p)^2)$$\n",
    "for comparison, the poisson distribution has an exess kurtosis of $1/\\lambda$ only. Thus, for our model we keep everyhting like we had before and we will continue to model the mean with the same process but we will add this parameter $p$ with a uniform prior over $[0,1]$. In particular we will choose one $p$ for each of the different sites as we would expect that the kurtosis would be site dependent."
   ]
  },
  {
   "cell_type": "code",
   "execution_count": null,
   "metadata": {},
   "outputs": [],
   "source": [
    "def negative_binomial_model(num_sites, num_days, num_predictors,predictors, data=None):\n",
    "    with plate(\"betas_plates\", num_predictors): \n",
    "        betas = pyro.sample('betas', dist.Normal(torch.zeros(num_predictors), 10 * torch.ones(num_predictors)))\n",
    "        \n",
    "    with plate('sites_params', num_sites): \n",
    "        epsilon = pyro.sample('epsilon', dist.Normal(torch.zeros(num_sites), 5))\n",
    "        epsilon = epsilon.unsqueeze(-1).expand(num_sites, num_days)\n",
    "        theta = torch.exp(predictors @ betas + epsilon)\n",
    "        p = pyro.sample('p', dist.Beta(1000,10))\n",
    "        p = p.unsqueeze(-1).expand(num_sites, num_days)\n",
    "        r = ((1-p)/p)*theta\n",
    "        \n",
    "        \n",
    "    with plate('sites', size=num_sites, dim=-2):\n",
    "        with plate('days', size=num_days, dim=-1):\n",
    "            accidents = pyro.sample('accidents', dist.NegativeBinomial(r,p), obs=data) \n",
    "            \n",
    "    return accidents\n",
    "\n",
    "def negative_binomial_guide(num_sites, num_days, num_predictors, predictors, data=None):\n",
    "    #Parameters for p\n",
    "    alpha_0 = pyro.param('alpha_0', 5*torch.ones(num_sites), constraint =positive)\n",
    "    alpha_1 = pyro.param('alpha_1', 5*torch.ones(num_sites), constraint =positive)\n",
    "    \n",
    "    means_epsilon = pyro.param('means_epsilon', torch.zeros(num_sites))\n",
    "    means_betas = pyro.param('means_betas', torch.zeros(num_predictors))\n",
    "    variance_epsilon = pyro.param('variance_epsilon', torch.ones(num_sites), constraint=positive)\n",
    "    variance_betas = pyro.param('variance_beta', torch.ones(num_predictors), constraint=positive)\n",
    "    \n",
    "    with plate(\"beta_plates\", num_predictors):\n",
    "        pyro.sample('betas', dist.Normal(means_betas, variance_betas))\n",
    "    \n",
    "    with plate('sites',size=num_sites): \n",
    "        pyro.sample('epsilon',dist.Normal(means_epsilon, variance_epsilon))\n",
    "        pyro.sample('p', dist.Beta(alpha_0,alpha_1))\n"
   ]
  },
  {
   "cell_type": "code",
   "execution_count": null,
   "metadata": {},
   "outputs": [],
   "source": [
    "num_iters = 100\n",
    "optimizer = torch.optim.Adam\n",
    "optim_args = {'lr': 0.1}\n",
    "optim_params = {\n",
    "    'optimizer': optimizer,\n",
    "    'optim_args':optim_args, \n",
    "    'step_size': 10,\n",
    "    'gamma':0.1,\n",
    "    'verbose':True}\n",
    "scheduler = optim.StepLR(optim_params)\n",
    "\n",
    "svi = SVI(negative_binomial_model,negative_binomial_guide, scheduler,loss=Trace_ELBO())\n",
    "\n",
    "pyro.clear_param_store()\n",
    "losses = []\n",
    "train_mat_tens = torch.tensor(train_mat)\n",
    "predictors_tens = torch.tensor(new_predictors).float()\n",
    "num_predictors = predictors_tens.shape[-1]\n",
    "for i in range(num_iters): \n",
    "    elbo = svi.step(num_sites, num_days, num_predictors, predictors_tens, train_mat_tens)\n",
    "    losses.append(elbo)\n",
    "    if i % 10 == 0: \n",
    "        print(\"In step {} the Elbo is {}\".format(i,elbo))"
   ]
  },
  {
   "cell_type": "code",
   "execution_count": null,
   "metadata": {},
   "outputs": [],
   "source": [
    "elbo_df = pd.DataFrame({'Iteration': list(range(len(losses))), 'log-loss': np.log(losses[:])})\n",
    "fig = px.line(elbo_df, x='Iteration', y='log-loss', title='Elbo')\n",
    "fig.show()"
   ]
  },
  {
   "cell_type": "code",
   "execution_count": null,
   "metadata": {},
   "outputs": [],
   "source": [
    "predict = Predict(negative_binomial_model,negative_binomial_guide, 200)\n",
    "samples = predict(num_sites, num_days, num_predictors, predictors_tens)"
   ]
  },
  {
   "cell_type": "code",
   "execution_count": null,
   "metadata": {},
   "outputs": [],
   "source": [
    "subset = torch.distributions.Categorical(torch.ones(4,num_sites)/num_sites).sample()\n",
    "print(subset)\n",
    "ppc.plot_total_distributions(samples['accidents'].detach().numpy(),train_mat,(2,2),subset)"
   ]
  },
  {
   "cell_type": "markdown",
   "metadata": {},
   "source": [
    "# checking tails\n",
    "\n",
    "One particular parametrization that we can use relies on the variance and and the mean of the distribution. To understand how we should model this distribution it is useful to look two plots. One is the distribution of the variance per node and the other one is variance against mean per node. "
   ]
  },
  {
   "cell_type": "code",
   "execution_count": null,
   "metadata": {},
   "outputs": [],
   "source": [
    "# I remove three outliers that have a very high level of variance.\n",
    "selection = np.var(train_mat,axis=1) < 5\n",
    "fig, ax = plt.subplots(1,2,figsize=(12,4))\n",
    "sns.kdeplot(np.var(train_mat, axis = 1)[selection], ax=ax[0])\n",
    "ax[0].set_xlabel('Variance')\n",
    "ax[0].set_title('Variance among sites')\n",
    "\n",
    "ax[1].set_ylabel('Variance')\n",
    "ax[1].set_xlabel('Mean')\n",
    "ax[1].set_title('Mean vs Variance per Site')\n",
    "\n",
    "#Removed outliers \n",
    "ax[1].scatter(x=np.mean(train_mat,axis=1)[selection],y=np.var(train_mat,axis=1)[selection],alpha=0.7)"
   ]
  },
  {
   "cell_type": "code",
   "execution_count": null,
   "metadata": {},
   "outputs": [],
   "source": [
    "np.nonzero(np.var(train_mat, axis=1) > 0.5)"
   ]
  },
  {
   "cell_type": "markdown",
   "metadata": {},
   "source": [
    "# PPC with different daily predictors"
   ]
  },
  {
   "cell_type": "markdown",
   "metadata": {},
   "source": [
    "We first remove the outliers"
   ]
  },
  {
   "cell_type": "code",
   "execution_count": null,
   "metadata": {},
   "outputs": [],
   "source": [
    "cleaned_data_mat = np.delete(data_mat, [ 427, 1862, 2504], axis=0)"
   ]
  },
  {
   "cell_type": "markdown",
   "metadata": {},
   "source": [
    "We want to plot the difference between the mean accidents for each categorical-like daily predictor for all nodes - for both our model and the actual data. These plots indicate whether our model is able to capture the effects of these categorical-like variables."
   ]
  },
  {
   "cell_type": "code",
   "execution_count": 17,
   "metadata": {},
   "outputs": [],
   "source": [
    "def plot_across_actual(data, selector, axis):\n",
    "    selected_idx = np.argwhere(selector)\n",
    "    unselected_idx = np.argwhere(np.ones(data.shape[axis]) - selector)\n",
    "    selected_means = np.sum(data[:, selected_idx], axis = axis)/len(selected_idx)\n",
    "    unselected_means = np.sum(data[:, unselected_idx], axis = axis)/len(unselected_idx)\n",
    "    difference = selected_means - unselected_means\n",
    "    sns.displot(difference)\n",
    "\n",
    "def plot_across_samples(data, selector, axis):\n",
    "    plot_across_actual(np.sum(data, axis=0)/data.shape[0], selector, axis)\n"
   ]
  },
  {
   "cell_type": "code",
   "execution_count": 18,
   "metadata": {},
   "outputs": [
    {
     "data": {
      "image/png": "[encoded data removed]",
      "text/plain": [
       "<Figure size 402.25x360 with 1 Axes>"
      ]
     },
     "metadata": {
      "needs_background": "light"
     },
     "output_type": "display_data"
    }
   ],
   "source": [
    "seed = [[0,0,0,1,1,0,0]]\n",
    "weekends = np.concatenate(np.repeat(seed, 1000, axis=0))[:num_days]\n",
    "\n",
    "plot_across_actual(train_mat, weekends, 1)"
   ]
  },
  {
   "cell_type": "code",
   "execution_count": 27,
   "metadata": {},
   "outputs": [],
   "source": [
    "samples = np.load('arr_0.npy')"
   ]
  },
  {
   "cell_type": "code",
   "execution_count": 31,
   "metadata": {},
   "outputs": [
    {
     "data": {
      "image/png": "[encoded data removed]",
      "text/plain": [
       "<Figure size 402.25x360 with 1 Axes>"
      ]
     },
     "metadata": {
      "needs_background": "light"
     },
     "output_type": "display_data"
    }
   ],
   "source": [
    "plot_across_samples(samples, weekends, 1)"
   ]
  },
  {
   "cell_type": "markdown",
   "metadata": {},
   "source": [
    "\n",
    "## Effect of weekday"
   ]
  },
  {
   "cell_type": "code",
   "execution_count": null,
   "metadata": {},
   "outputs": [],
   "source": [
    "def add_weekday_predictors(predictors): \n",
    "    \"\"\"\n",
    "    Adds one categorical idicating day of the week.\n",
    "    Params: \n",
    "        Predictors (ndarray): predictors[i][j][k] indicates predictor k on day j \n",
    "            at node i \n",
    "    Returns: \n",
    "        ndarrya of dimension with 6 additional variables in the last dimension corresponding\n",
    "        to the weekday \n",
    "    \"\"\"\n",
    "    cur_pred = predictors.shape[-1]\n",
    "    shape = np.array(predictors.shape) + np.array([0,0,7])\n",
    "    new_predictors = np.zeros(shape)\n",
    "    new_predictors[:,:,:cur_pred] = predictors\n",
    "    for i in range(7): \n",
    "        new_predictors[:,i%7,cur_pred + (i%7)] = np.ones(shape[0])\n",
    "    return new_predictors[:,:,:-1]\n",
    "\n",
    "def normalize(predictors):\n",
    "    \"\"\"\n",
    "    Normalizes every variable using max \n",
    "    \"\"\"\n",
    "    normalization_constant =  np.max(np.max(predictors, axis=1), axis =0)\n",
    "    return predictors/normalization_constant\n"
   ]
  },
  {
   "cell_type": "code",
   "execution_count": null,
   "metadata": {},
   "outputs": [],
   "source": [
    "weather_data = pd.read_csv('../data/weather.csv')\n",
    "new_predictors = add_weather_predictors(predictors, weather_data)\n",
    "new_predictors = add_weekday_predictors(new_predictors)\n",
    "new_predictors = normalize(new_predictors) \n"
   ]
  },
  {
   "cell_type": "code",
   "execution_count": null,
   "metadata": {},
   "outputs": [],
   "source": [
    "aadt_model_guide = autoguide.AutoDiagonalNormal(aadt_model)\n",
    "num_iters = 1000\n",
    "optimizer = torch.optim.Adam\n",
    "optim_args = {'lr': 0.05}\n",
    "optim_params = {\n",
    "    'optimizer': optimizer,\n",
    "    'optim_args':optim_args, \n",
    "    'step_size': 200,\n",
    "    'gamma':0.1,\n",
    "    'verbose':True}\n",
    "scheduler = optim.StepLR(optim_params)\n",
    "\n",
    "svi = SVI(aadt_model, aadt_model_guide, scheduler,loss=Trace_ELBO())\n",
    "\n",
    "pyro.clear_param_store()\n",
    "losses = []\n",
    "train_mat_tens = torch.tensor(train_mat)\n",
    "predictors_tens = torch.tensor(new_predictors).float()\n",
    "num_predictors = predictors_tens.shape[-1]\n",
    "print(predictors_tens.shape)\n",
    "\n",
    "prev = np.inf\n",
    "for i in range(num_iters): \n",
    "    elbo = svi.step(num_sites, num_days, num_predictors, predictors_tens, train_mat_tens)\n",
    "    losses.append(elbo)\n",
    "    if np.abs(elbo - prev) < 1:\n",
    "        break\n",
    "    prev = elbo\n",
    "    if i % 50 == 0: \n",
    "        print(\"In step {} the Elbo is {}\".format(i,elbo))\n"
   ]
  },
  {
   "cell_type": "code",
   "execution_count": null,
   "metadata": {},
   "outputs": [],
   "source": [
    "elbo_df = pd.DataFrame({'Iteration': list(range(len(losses))), 'log-loss': np.log(losses[:])})\n",
    "fig = px.line(elbo_df, x='Iteration', y='log-loss', title='Elbo')\n",
    "fig.show()"
   ]
  },
  {
   "cell_type": "code",
   "execution_count": null,
   "metadata": {},
   "outputs": [],
   "source": [
    "predict = Predict(negative_binomial_model,negative_binomial_guide, 400)\n",
    "samples = predict(num_sites, num_days, num_predictors, predictors_tens)"
   ]
  },
  {
   "cell_type": "code",
   "execution_count": null,
   "metadata": {},
   "outputs": [],
   "source": [
    "accidents = samples['accidents'].detach().numpy()"
   ]
  },
  {
   "cell_type": "code",
   "execution_count": null,
   "metadata": {},
   "outputs": [],
   "source": [
    "train_mat.shape"
   ]
  },
  {
   "cell_type": "code",
   "execution_count": null,
   "metadata": {},
   "outputs": [],
   "source": [
    "sns.displot(np.sum(accidents[:,4],axis = 1))"
   ]
  },
  {
   "cell_type": "code",
   "execution_count": null,
   "metadata": {},
   "outputs": [],
   "source": [
    "subset = torch.distributions.Categorical(torch.ones(4,num_sites)/num_sites).sample().numpy()\n",
    "print(subset)\n",
    "ppc.plot_total_distributions(accidents,train_mat,(2,2),subset)"
   ]
  },
  {
   "cell_type": "code",
   "execution_count": null,
   "metadata": {},
   "outputs": [],
   "source": [
    "ppc.plot(samples['accidents'].detach().numpy(), train_mat)"
   ]
  },
  {
   "cell_type": "code",
   "execution_count": null,
   "metadata": {},
   "outputs": [],
   "source": [
    "ppc.plot_time_trend(accidents, train_mat)"
   ]
  },
  {
   "cell_type": "code",
   "execution_count": null,
   "metadata": {},
   "outputs": [],
   "source": [
    "sns.displot(samples['betas'][:,10].detach().numpy())"
   ]
  },
  {
   "cell_type": "markdown",
   "metadata": {},
   "source": [
    "## Changing to week days"
   ]
  },
  {
   "cell_type": "code",
   "execution_count": null,
   "metadata": {},
   "outputs": [],
   "source": [
    "def add_weekdayweekend_predictors(predictors, first_week = np.array([0,0,0,1,1,0,0])): \n",
    "    \"\"\"\n",
    "    Adds one categorical idicating day of the week.\n",
    "    Params: \n",
    "        Predictors (ndarray): predictors[i][j][k] indicates predictor k on day j \n",
    "            at node i \n",
    "    Returns: \n",
    "        ndarrya of dimension with 6 additional variables in the last dimension corresponding\n",
    "        to the weekday \n",
    "    \"\"\"\n",
    "    num_days = predictors.shape[1]\n",
    "    is_week = np.array([first_week[i%7] for i in range(num_days)])\n",
    "    cur_pred = predictors.shape[-1]\n",
    "    shape = np.array(predictors.shape) + np.array([0,0,1])\n",
    "    new_predictors = np.zeros(shape)\n",
    "    new_predictors[:,:,:cur_pred] = predictors\n",
    "    new_predictors[:,:,-1] = is_week \n",
    "    return new_predictors"
   ]
  },
  {
   "cell_type": "code",
   "execution_count": null,
   "metadata": {},
   "outputs": [],
   "source": [
    "weather_data = pd.read_csv('../data/weather.csv')\n",
    "new_predictors = add_weather_predictors(predictors, weather_data)\n",
    "new_predictors = add_weekdayweekend_predictors(new_predictors)\n",
    "new_predictors = normalize(new_predictors)\n"
   ]
  },
  {
   "cell_type": "code",
   "execution_count": null,
   "metadata": {},
   "outputs": [],
   "source": []
  },
  {
   "cell_type": "code",
   "execution_count": null,
   "metadata": {},
   "outputs": [],
   "source": [
    "aadt_model_guide = autoguide.AutoDiagonalNormal(aadt_model)\n",
    "num_iters = 1500\n",
    "optimizer = torch.optim.Adam\n",
    "optim_args = {'lr': 0.08}\n",
    "optim_params = {\n",
    "    'optimizer': optimizer,\n",
    "    'optim_args':optim_args, \n",
    "    'step_size': 10,\n",
    "    'gamma':0.1,\n",
    "    'verbose':True}\n",
    "scheduler = optim.StepLR(optim_params)\n",
    "\n",
    "svi = SVI(aadt_model, aadt_model_guide, scheduler,loss=Trace_ELBO())\n",
    "\n",
    "pyro.clear_param_store()\n",
    "losses = []\n",
    "train_mat_tens = torch.tensor(train_mat)\n",
    "predictors_tens = torch.tensor(new_predictors).float()\n",
    "num_predictors = predictors_tens.shape[-1]\n",
    "print(predictors_tens.shape)\n",
    "\n",
    "prev = np.inf\n",
    "for i in range(num_iters): \n",
    "    elbo = svi.step(num_sites, num_days, num_predictors, predictors_tens, train_mat_tens)\n",
    "    losses.append(elbo)\n",
    "    if np.abs(elbo - prev) < 1:\n",
    "        break\n",
    "    prev = elbo\n",
    "    if i % 50 == 0: \n",
    "        print(\"In step {} the Elbo is {}\".format(i,elbo))"
   ]
  },
  {
   "cell_type": "code",
   "execution_count": null,
   "metadata": {},
   "outputs": [],
   "source": [
    "predict = Predict(aadt_model, aadt_model_guide, 400)\n",
    "samples = predict(num_sites, num_days, num_predictors, predictors_tens)"
   ]
  },
  {
   "cell_type": "code",
   "execution_count": null,
   "metadata": {},
   "outputs": [],
   "source": [
    "from importlib import reload \n",
    "ppc = reload(helper_functions.ppc)"
   ]
  },
  {
   "cell_type": "code",
   "execution_count": null,
   "metadata": {},
   "outputs": [],
   "source": [
    "\n",
    "accidents = samples['accidents'].detach().numpy()\n",
    "np.sum(accidents[:,1], -1)\n",
    "subset = torch.distributions.Categorical(torch.ones(4,num_sites)/num_sites).sample().numpy()\n",
    "print(subset)\n",
    "ppc.plot_total_distributions(accidents,train_mat,(2,2),subset)"
   ]
  },
  {
   "cell_type": "code",
   "execution_count": null,
   "metadata": {},
   "outputs": [],
   "source": [
    "sns.displot(samples['betas'][:,-1].detach().numpy())"
   ]
  },
  {
   "cell_type": "code",
   "execution_count": null,
   "metadata": {},
   "outputs": [],
   "source": [
    "ppc.plot_time_trend(accidents, train_mat, window=101)"
   ]
  },
  {
   "cell_type": "markdown",
   "metadata": {},
   "source": []
  },
  {
   "cell_type": "markdown",
   "metadata": {},
   "source": [
    "## Assignment model to determine importance of predictors"
   ]
  },
  {
   "cell_type": "code",
   "execution_count": null,
   "metadata": {},
   "outputs": [],
   "source": [
    "def beta_model(num_sites, num_days, num_predictors,predictors, data=None):\n",
    "    params = {}\n",
    "    with plate('betas_plates', num_predictors): \n",
    "        betas = pyro.sample('betas', dist.Normal(torch.zeros(num_predictors), 10 * torch.ones(num_predictors)))\n",
    "        params['betas'] = betas\n",
    "        with  plate('multiplier_plate', num_sites): \n",
    "            multipliers = pyro.sample('multipliers', dist.Beta(torch.ones(num_sites, num_predictors), torch.ones(num_sites, num_predictors)))\n",
    "            params['multipliers'] = multipliers\n",
    "            betas = multipliers * betas\n",
    "            params['final_beta'] = betas\n",
    "                                                         \n",
    "                                                    \n",
    "        \n",
    "#    with plate('sites', size=num_sites, dim=-2):\n",
    "#        bernoulli = pyro.sample('bernoulli',dist.Bernoulli(0.5 * torch.ones(num_sites,num_predictors)))\n",
    "#        betas = bernoulli * betas\n",
    "#        betas = betas * torch.ones(num_days,num_sites,num_predictors)\n",
    "#        betas = betas.permute(1,0,2)\n",
    "#        epsilon = pyro.sample('epsilon', dist.Normal(torch.zeros(num_sites), 5))\n",
    "#        epsilon = epsilon.unsqueeze(-1).expand(num_sites, num_days)\n",
    "#        theta = torch.exp(torch.sum(predictors * betas, axis = -1) + epsilon)\n",
    "#        with plate('days', size=num_days, dim=-1):\n",
    "#            accidents = pyro.sample('accidents', dist.NegativeBinomial(r,p), obs=data) \n",
    "            \n",
    "    return params\n"
   ]
  },
  {
   "cell_type": "code",
   "execution_count": null,
   "metadata": {},
   "outputs": [],
   "source": [
    "from scipy.stats import poisson\n",
    "from scipy.stats import nbinom"
   ]
  },
  {
   "cell_type": "code",
   "execution_count": null,
   "metadata": {},
   "outputs": [],
   "source": [
    "nbinom()"
   ]
  }
 ],
 "metadata": {
  "kernelspec": {
   "display_name": "Python 3",
   "language": "python",
   "name": "python3"
  },
  "language_info": {
   "codemirror_mode": {
    "name": "ipython",
    "version": 3
   },
   "file_extension": ".py",
   "mimetype": "text/x-python",
   "name": "python",
   "nbconvert_exporter": "python",
   "pygments_lexer": "ipython3",
   "version": "3.8.5"
  }
 },
 "nbformat": 4,
 "nbformat_minor": 4
}
