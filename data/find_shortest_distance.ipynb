{
 "cells": [
  {
   "cell_type": "code",
   "execution_count": null,
   "metadata": {},
   "outputs": [],
   "source": [
    "import numpy as np\n",
    "import pandas as pd\n",
    "import shapely.geometry as geom\n",
    "import data_utils as utils\n",
    "import time \n",
    "import reverse_geocoder as rg\n",
    "import importlib\n",
    "import osmnx as ox\n",
    "import re\n",
    "import math"
   ]
  },
  {
   "cell_type": "code",
   "execution_count": null,
   "metadata": {},
   "outputs": [],
   "source": [
    "data = pd.read_csv(\"joined_aadt.csv\")\n",
    "nodesdf = pd.read_csv(\"accident_node_data.csv\")"
   ]
  },
  {
   "cell_type": "code",
   "execution_count": null,
   "metadata": {},
   "outputs": [],
   "source": []
  },
  {
   "cell_type": "code",
   "execution_count": null,
   "metadata": {},
   "outputs": [],
   "source": [
    "display(data.head())\n",
    "print(len(data))\n",
    "display(nodesdf.head())"
   ]
  },
  {
   "cell_type": "markdown",
   "metadata": {},
   "source": [
    "# Selecting points from manhattan\n",
    "\n",
    "Here we will select only the sections that are relevant to us. Namely, those pertaining to manhattan. First I select the nodes that are in manhattan"
   ]
  },
  {
   "cell_type": "code",
   "execution_count": null,
   "metadata": {},
   "outputs": [],
   "source": [
    "import geopandas as gpd"
   ]
  },
  {
   "cell_type": "code",
   "execution_count": null,
   "metadata": {},
   "outputs": [],
   "source": [
    "boro = gpd.read_file('borough_boundaries.geojson')\n",
    "manhattan_poly = boro['geometry'].iloc[2]"
   ]
  },
  {
   "cell_type": "code",
   "execution_count": null,
   "metadata": {},
   "outputs": [],
   "source": [
    "boro.head()"
   ]
  },
  {
   "cell_type": "code",
   "execution_count": null,
   "metadata": {
    "scrolled": true
   },
   "outputs": [],
   "source": [
    "# Select nodes that are located in manhattan\n",
    "points = nodesdf[['longitude','latitude']].to_numpy()\n",
    "coordinates = [geom.Point(point) for point in points]\n",
    "inside_manhattan = [point.within(manhattan_poly) for point in coordinates]\n"
   ]
  },
  {
   "cell_type": "code",
   "execution_count": null,
   "metadata": {},
   "outputs": [],
   "source": [
    "manhattan_accidents = nodesdf[inside_manhattan]\n",
    "manhattan_accidents.to_csv(\"manhattan_accidents_node_data.csv\")"
   ]
  },
  {
   "cell_type": "code",
   "execution_count": null,
   "metadata": {},
   "outputs": [],
   "source": [
    "manhattan_accidents = pd.read_csv(\"manhattan_accidents_node_data.csv\")"
   ]
  },
  {
   "cell_type": "code",
   "execution_count": null,
   "metadata": {},
   "outputs": [],
   "source": [
    "manhattan_accidents.head()"
   ]
  },
  {
   "cell_type": "markdown",
   "metadata": {},
   "source": [
    "Now, I will choose the points per each of the nodes inside of manhattan. "
   ]
  },
  {
   "cell_type": "code",
   "execution_count": null,
   "metadata": {},
   "outputs": [],
   "source": [
    "unique_nodes, index_unique = np.unique(manhattan_accidents[['node']].to_numpy(), return_index = True)\n"
   ]
  },
  {
   "cell_type": "markdown",
   "metadata": {},
   "source": [
    "I will use the graphml file containing latitudes and longitudes to obtain this information"
   ]
  },
  {
   "cell_type": "code",
   "execution_count": null,
   "metadata": {},
   "outputs": [],
   "source": [
    "graph_file = 'newyork.graphml'\n",
    "graph = ox.io.load_graphml(graph_file)"
   ]
  },
  {
   "cell_type": "code",
   "execution_count": null,
   "metadata": {},
   "outputs": [],
   "source": [
    "# Latitude and longitude coordinates of the nodes\n",
    "unique_x = []\n",
    "unique_y = []\n",
    "num_connect = {}\n",
    "for node in unique_nodes: \n",
    "    num_connect[node] = len(graph[node])\n",
    "    unique_x.append(graph.nodes[node]['x'])\n",
    "    unique_y.append(graph.nodes[node]['y'])\n",
    "unique_x = np.expand_dims(np.array(unique_x), 1)\n",
    "unique_y = np.expand_dims(np.array(unique_y), 1)\n",
    "unique_points = np.concatenate((unique_x, unique_y), axis = 1)"
   ]
  },
  {
   "cell_type": "markdown",
   "metadata": {},
   "source": [
    "\n",
    "Now we will repeat something very similar but with the road sections. We will select only those that are located in Manhattan"
   ]
  },
  {
   "cell_type": "code",
   "execution_count": null,
   "metadata": {},
   "outputs": [],
   "source": [
    "manhattan_roads = data[data['County'].apply(lambda x: x == 'New York')]\n",
    "manhattan_roads.to_csv('manhattan_road_segments_aadt.csv')"
   ]
  },
  {
   "cell_type": "markdown",
   "metadata": {},
   "source": [
    "# Extracting line segments"
   ]
  },
  {
   "cell_type": "code",
   "execution_count": null,
   "metadata": {},
   "outputs": [],
   "source": [
    "p = re.compile(r'[-+]?[0-9]*\\.?[0-9]+')\n",
    "xy = manhattan_roads['geometry'].apply(lambda x: p.findall(x))"
   ]
  },
  {
   "cell_type": "code",
   "execution_count": null,
   "metadata": {},
   "outputs": [],
   "source": [
    "def transform(x): \n",
    "    points = []\n",
    "    j = 0\n",
    "    point = []\n",
    "    for i in range(len(x)):\n",
    "        if j == 0:\n",
    "            point = [float(x[i])]\n",
    "            j += 1\n",
    "        elif j == 1: \n",
    "            point.append(float(x[i]))\n",
    "            points.append(point)\n",
    "            j = 0\n",
    "    return np.array(points)\n",
    "    "
   ]
  },
  {
   "cell_type": "code",
   "execution_count": null,
   "metadata": {},
   "outputs": [],
   "source": [
    "def find_min_segment(point,segments,cutoff=True): \n",
    "    \"\"\"\n",
    "    returns index of closest segment. \n",
    "    Assumes point is np.array([x,y])\n",
    "    Segments is an array of road semgments each item in \n",
    "    the list represets one road. \n",
    "    \"\"\"\n",
    "    def return_min(segment):\n",
    "        return np.nanmin(utils.lineseg_dists(point,segment[:-1],segment[1:]))\n",
    "    \n",
    "    # We are looking for all roads closer than 0.01 km. \n",
    "    # A unit in long-lat coordinates is equal to about 111 km\n",
    "    distances = np.array([return_min(segment) for segment in segments])\n",
    "    if cutoff: \n",
    "        return (distances < (0.01/111)).nonzero()[0]\n",
    "    else:\n",
    "        return np.nanargmin(distances)\n"
   ]
  },
  {
   "cell_type": "code",
   "execution_count": null,
   "metadata": {},
   "outputs": [],
   "source": [
    "# This is to get a represenation of the coordinates the segments as an array of arrays\n",
    "# Each array represents a road segment. \n",
    "\n",
    "segments = xy.apply(transform)\n",
    "segments = segments.to_numpy()"
   ]
  },
  {
   "cell_type": "code",
   "execution_count": null,
   "metadata": {},
   "outputs": [],
   "source": [
    "minim = []\n",
    "start = time.time()\n",
    "nodes_roads_data = {}\n",
    "\n",
    "cols = []\n",
    "for n in range(4, 10):\n",
    "    cols.append('Count_201' + str(n))\n",
    "\n",
    "data['Count_mean'] = data[cols].mean(axis=1)\n",
    "cols.append('Count_mean')\n",
    "display(data.head())\n",
    "for col in cols:\n",
    "    nodes_roads_data[col] = []   \n",
    "\n",
    "\n",
    "for i in range(len(unique_points)):\n",
    "    if i % 100 == 0:\n",
    "        print(i)\n",
    "    road_ids = list(find_min_segment(unique_points[i],segments, cutoff=True))\n",
    "    for col in cols:\n",
    "        max_AADT = data.iloc[road_ids].dropna(subset=[col])[col].max()\n",
    "        nodes_roads_data[col].append(max_AADT)\n",
    "        \n",
    "    minim.append(\",\".join(map(str, road_ids)))\n",
    "print(time.time() - start)    \n"
   ]
  },
  {
   "cell_type": "code",
   "execution_count": null,
   "metadata": {},
   "outputs": [],
   "source": [
    "num_connect_arr = []\n",
    "for node in unique_nodes:\n",
    "    num_connect_arr.append(num_connect[node])"
   ]
  },
  {
   "cell_type": "code",
   "execution_count": null,
   "metadata": {},
   "outputs": [],
   "source": [
    "nodes_roads_data['nodes'] = unique_nodes\n",
    "nodes_roads_data['num_connect'] = num_connect_arr\n",
    "nodes_roads_data['roads'] = minim\n",
    "\n",
    "intersections = pd.DataFrame(data=nodes_roads_data)\n",
    "intersections = intersections.dropna(subset=cols, how=\"all\")"
   ]
  },
  {
   "cell_type": "code",
   "execution_count": null,
   "metadata": {},
   "outputs": [],
   "source": [
    "num = 0\n",
    "for i in range(len(minim)):\n",
    "    if len(minim[i]) == 0:\n",
    "        num += 1\n",
    "print(num)"
   ]
  },
  {
   "cell_type": "code",
   "execution_count": null,
   "metadata": {},
   "outputs": [],
   "source": [
    "intersections.to_csv(\"nodes_roads.csv\")"
   ]
  },
  {
   "cell_type": "code",
   "execution_count": null,
   "metadata": {},
   "outputs": [],
   "source": []
  }
 ],
 "metadata": {
  "kernelspec": {
   "display_name": "Python 3",
   "language": "python",
   "name": "python3"
  },
  "language_info": {
   "codemirror_mode": {
    "name": "ipython",
    "version": 3
   },
   "file_extension": ".py",
   "mimetype": "text/x-python",
   "name": "python",
   "nbconvert_exporter": "python",
   "pygments_lexer": "ipython3",
   "version": "3.8.5"
  }
 },
 "nbformat": 4,
 "nbformat_minor": 4
}
