{
 "cells": [
  {
   "cell_type": "code",
   "execution_count": 1,
   "metadata": {},
   "outputs": [],
   "source": [
    "import numpy as np\n",
    "import pandas as pd \n",
    "import folium \n",
    "from folium.plugins import FastMarkerCluster\n",
    "import matplotlib.pyplot as plt\n",
    "import matplotlib as mpl"
   ]
  },
  {
   "cell_type": "markdown",
   "metadata": {},
   "source": [
    "This cell just loads the data from the original dataset, organizes them by time and gets rid of the rows that don't have either a latitude or a longitude"
   ]
  },
  {
   "cell_type": "code",
   "execution_count": 3,
   "metadata": {},
   "outputs": [
    {
     "name": "stderr",
     "output_type": "stream",
     "text": [
      "/home/asifmallik/.local/lib/python3.8/site-packages/IPython/core/interactiveshell.py:3145: DtypeWarning: Columns (3) have mixed types.Specify dtype option on import or set low_memory=False.\n",
      "  has_raised = await self.run_ast_nodes(code_ast.body, cell_name,\n"
     ]
    }
   ],
   "source": [
    "file_path = '../crashes.csv'\n",
    "df = pd.read_csv(file_path)\n",
    "\n",
    "df['datetime'] = pd.to_datetime((df[\"CRASH DATE\"] + \" \" + df[\"CRASH TIME\"]))\n",
    "df.sort_values(by=[\"datetime\"], inplace=True, ascending=False)\n",
    "df = df.dropna(subset=['LATITUDE','LONGITUDE'])"
   ]
  },
  {
   "cell_type": "markdown",
   "metadata": {},
   "source": [
    "We then get rid of all of the columns that we don't need and save the data for later use. Moroever we reorganize it so that the data is in chronological order in the dataframe"
   ]
  },
  {
   "cell_type": "code",
   "execution_count": null,
   "metadata": {},
   "outputs": [],
   "source": [
    "df_clean = df[['datetime','LONGITUDE','LATITUDE']]\n",
    "df_clean.columns = ['datetime', 'longitude','latitude']\n",
    "df_clean.reset_index(drop=True, inplace=True)\n",
    "df_clean = df_clean.reindex(index=df_clean.index[::-1])\n",
    "df_clean.reset_index(drop=True, inplace=True)\n",
    "df_clean.to_csv('clean_data.csv',index=True)\n",
    "df.head()"
   ]
  },
  {
   "cell_type": "markdown",
   "metadata": {},
   "source": [
    "Now, we turn to aggregating the data. For doing so we will create a grid on top of new york city and will cluster the points such that each point is assigned to the square in the grid it belongs to. The representative of each square is simply going to be the center of the square. We illustrate this by plotting the points in new york city correponsing to one day "
   ]
  },
  {
   "cell_type": "code",
   "execution_count": 143,
   "metadata": {},
   "outputs": [],
   "source": [
    "df2013 = df_clean[(df_clean['datetime']>'2013-04-03') & (df_clean['datetime'] < '2013-04-04')]"
   ]
  },
  {
   "cell_type": "code",
   "execution_count": 144,
   "metadata": {},
   "outputs": [],
   "source": [
    "\n",
    "def aggregate_data(df, lower_left, upper_right, n):\n",
    "    \"\"\"\n",
    "    lower_left: lower left lat and long of grid of grids\n",
    "    upper_right: upper left lat and long of grid of girds\n",
    "    number of divisions\n",
    "    \"\"\"\n",
    "    df_copy = pd.DataFrame.copy(df)\n",
    "    \n",
    "    lat_steps = np.linspace(lower_left[0], upper_right[0], n+1)\n",
    "    lon_steps = np.linspace(lower_left[1], upper_right[1], n+1)\n",
    "    \n",
    "    xleft = lower_left[1]\n",
    "    xright = upper_right[1]\n",
    "    \n",
    "    ybot = lower_left[0]\n",
    "    yup = upper_right[0]\n",
    "    \n",
    "    xstride = (xright - xleft)/n\n",
    "    ystride = (yup - ybot)/n\n",
    "    \n",
    "    df_copy['x_box'] = np.floor((df_copy['longitude'] - xleft)/xstride)\n",
    "    df_copy['y_box'] = np.floor((df_copy['latitude'] - ybot)/ystride)\n",
    "    df_copy\n",
    "    df_copy['repr_lat'] = df_copy['y_box']* ystride + ystride/2 + ybot\n",
    "    df_copy['repr_long'] = df_copy['x_box']* xstride + xstride/2 + xleft\n",
    "    \n",
    "    return df_copy\n",
    "    \n",
    "    \n",
    "    \n"
   ]
  },
  {
   "cell_type": "code",
   "execution_count": 145,
   "metadata": {},
   "outputs": [],
   "source": [
    "# These parameters were determined by looking at a map\n",
    "lower_left = [49.68, -74.669]\n",
    "upper_right = [59.145, 2.77]\n",
    "location = [40.7128, -74.0060]\n",
    "lower_left = [location[0] - 0.3, location[1] - 0.3]\n",
    "upper_right = [location[0] + 0.3, location[1] + 0.4]\n",
    "\n",
    "\n",
    "dfyear = aggregate_data(df2013, lower_left, upper_right, 600)"
   ]
  },
  {
   "cell_type": "code",
   "execution_count": 146,
   "metadata": {},
   "outputs": [
    {
     "data": {
      "text/html": [
       "<div style=\"width:100%;\"><div style=\"position:relative;width:100%;height:0;padding-bottom:60%;\"><span style=\"color:#565656\">Make this Notebook Trusted to load map: File -> Trust Notebook</span><iframe src=\"about:blank\" style=\"position:absolute;width:100%;height:100%;left:0;top:0;border:none !important;\" data-html=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 onload=\"this.contentDocument.open();this.contentDocument.write(atob(this.getAttribute('data-html')));this.contentDocument.close();\" allowfullscreen webkitallowfullscreen mozallowfullscreen></iframe></div></div>"
      ],
      "text/plain": [
       "<folium.folium.Map at 0x1f053a8b0>"
      ]
     },
     "execution_count": 146,
     "metadata": {},
     "output_type": "execute_result"
    }
   ],
   "source": [
    "m = folium.Map()\n",
    "m.add_child(FastMarkerCluster(dfyear[['repr_lat','repr_long']].values.tolist()))"
   ]
  },
  {
   "cell_type": "code",
   "execution_count": 147,
   "metadata": {},
   "outputs": [
    {
     "data": {
      "text/html": [
       "<div>\n",
       "<style scoped>\n",
       "    .dataframe tbody tr th:only-of-type {\n",
       "        vertical-align: middle;\n",
       "    }\n",
       "\n",
       "    .dataframe tbody tr th {\n",
       "        vertical-align: top;\n",
       "    }\n",
       "\n",
       "    .dataframe thead th {\n",
       "        text-align: right;\n",
       "    }\n",
       "</style>\n",
       "<table border=\"1\" class=\"dataframe\">\n",
       "  <thead>\n",
       "    <tr style=\"text-align: right;\">\n",
       "      <th></th>\n",
       "      <th>datetime</th>\n",
       "      <th>longitude</th>\n",
       "      <th>latitude</th>\n",
       "      <th>x_box</th>\n",
       "      <th>y_box</th>\n",
       "      <th>repr_lat</th>\n",
       "      <th>repr_long</th>\n",
       "    </tr>\n",
       "  </thead>\n",
       "  <tbody>\n",
       "    <tr>\n",
       "      <th>125854</th>\n",
       "      <td>2013-04-03 00:01:00</td>\n",
       "      <td>-73.877473</td>\n",
       "      <td>40.839984</td>\n",
       "      <td>367.0</td>\n",
       "      <td>427.0</td>\n",
       "      <td>40.8403</td>\n",
       "      <td>-73.877250</td>\n",
       "    </tr>\n",
       "    <tr>\n",
       "      <th>125855</th>\n",
       "      <td>2013-04-03 00:11:00</td>\n",
       "      <td>-73.985283</td>\n",
       "      <td>40.645767</td>\n",
       "      <td>274.0</td>\n",
       "      <td>232.0</td>\n",
       "      <td>40.6453</td>\n",
       "      <td>-73.985750</td>\n",
       "    </tr>\n",
       "    <tr>\n",
       "      <th>125856</th>\n",
       "      <td>2013-04-03 00:27:00</td>\n",
       "      <td>-73.988355</td>\n",
       "      <td>40.720076</td>\n",
       "      <td>272.0</td>\n",
       "      <td>307.0</td>\n",
       "      <td>40.7203</td>\n",
       "      <td>-73.988083</td>\n",
       "    </tr>\n",
       "    <tr>\n",
       "      <th>125857</th>\n",
       "      <td>2013-04-03 00:30:00</td>\n",
       "      <td>-73.863096</td>\n",
       "      <td>40.750671</td>\n",
       "      <td>379.0</td>\n",
       "      <td>337.0</td>\n",
       "      <td>40.7503</td>\n",
       "      <td>-73.863250</td>\n",
       "    </tr>\n",
       "    <tr>\n",
       "      <th>125858</th>\n",
       "      <td>2013-04-03 00:50:00</td>\n",
       "      <td>-73.833443</td>\n",
       "      <td>40.771199</td>\n",
       "      <td>405.0</td>\n",
       "      <td>358.0</td>\n",
       "      <td>40.7713</td>\n",
       "      <td>-73.832917</td>\n",
       "    </tr>\n",
       "    <tr>\n",
       "      <th>...</th>\n",
       "      <td>...</td>\n",
       "      <td>...</td>\n",
       "      <td>...</td>\n",
       "      <td>...</td>\n",
       "      <td>...</td>\n",
       "      <td>...</td>\n",
       "      <td>...</td>\n",
       "    </tr>\n",
       "    <tr>\n",
       "      <th>126295</th>\n",
       "      <td>2013-04-03 23:15:00</td>\n",
       "      <td>-73.820299</td>\n",
       "      <td>40.755514</td>\n",
       "      <td>416.0</td>\n",
       "      <td>342.0</td>\n",
       "      <td>40.7553</td>\n",
       "      <td>-73.820083</td>\n",
       "    </tr>\n",
       "    <tr>\n",
       "      <th>126296</th>\n",
       "      <td>2013-04-03 23:15:00</td>\n",
       "      <td>-73.959452</td>\n",
       "      <td>40.653575</td>\n",
       "      <td>297.0</td>\n",
       "      <td>240.0</td>\n",
       "      <td>40.6533</td>\n",
       "      <td>-73.958917</td>\n",
       "    </tr>\n",
       "    <tr>\n",
       "      <th>126297</th>\n",
       "      <td>2013-04-03 23:18:00</td>\n",
       "      <td>-73.920128</td>\n",
       "      <td>40.661122</td>\n",
       "      <td>330.0</td>\n",
       "      <td>248.0</td>\n",
       "      <td>40.6613</td>\n",
       "      <td>-73.920417</td>\n",
       "    </tr>\n",
       "    <tr>\n",
       "      <th>126298</th>\n",
       "      <td>2013-04-03 23:40:00</td>\n",
       "      <td>-73.904131</td>\n",
       "      <td>40.638578</td>\n",
       "      <td>344.0</td>\n",
       "      <td>225.0</td>\n",
       "      <td>40.6383</td>\n",
       "      <td>-73.904083</td>\n",
       "    </tr>\n",
       "    <tr>\n",
       "      <th>126299</th>\n",
       "      <td>2013-04-03 23:50:00</td>\n",
       "      <td>-73.986846</td>\n",
       "      <td>40.745300</td>\n",
       "      <td>273.0</td>\n",
       "      <td>332.0</td>\n",
       "      <td>40.7453</td>\n",
       "      <td>-73.986917</td>\n",
       "    </tr>\n",
       "  </tbody>\n",
       "</table>\n",
       "<p>446 rows × 7 columns</p>\n",
       "</div>"
      ],
      "text/plain": [
       "                  datetime  longitude   latitude  x_box  y_box  repr_lat  \\\n",
       "125854 2013-04-03 00:01:00 -73.877473  40.839984  367.0  427.0   40.8403   \n",
       "125855 2013-04-03 00:11:00 -73.985283  40.645767  274.0  232.0   40.6453   \n",
       "125856 2013-04-03 00:27:00 -73.988355  40.720076  272.0  307.0   40.7203   \n",
       "125857 2013-04-03 00:30:00 -73.863096  40.750671  379.0  337.0   40.7503   \n",
       "125858 2013-04-03 00:50:00 -73.833443  40.771199  405.0  358.0   40.7713   \n",
       "...                    ...        ...        ...    ...    ...       ...   \n",
       "126295 2013-04-03 23:15:00 -73.820299  40.755514  416.0  342.0   40.7553   \n",
       "126296 2013-04-03 23:15:00 -73.959452  40.653575  297.0  240.0   40.6533   \n",
       "126297 2013-04-03 23:18:00 -73.920128  40.661122  330.0  248.0   40.6613   \n",
       "126298 2013-04-03 23:40:00 -73.904131  40.638578  344.0  225.0   40.6383   \n",
       "126299 2013-04-03 23:50:00 -73.986846  40.745300  273.0  332.0   40.7453   \n",
       "\n",
       "        repr_long  \n",
       "125854 -73.877250  \n",
       "125855 -73.985750  \n",
       "125856 -73.988083  \n",
       "125857 -73.863250  \n",
       "125858 -73.832917  \n",
       "...           ...  \n",
       "126295 -73.820083  \n",
       "126296 -73.958917  \n",
       "126297 -73.920417  \n",
       "126298 -73.904083  \n",
       "126299 -73.986917  \n",
       "\n",
       "[446 rows x 7 columns]"
      ]
     },
     "execution_count": 147,
     "metadata": {},
     "output_type": "execute_result"
    }
   ],
   "source": []
  },
  {
   "cell_type": "code",
   "execution_count": null,
   "metadata": {},
   "outputs": [],
   "source": []
  }
 ],
 "metadata": {
  "kernelspec": {
   "display_name": "Python 3",
   "language": "python",
   "name": "python3"
  },
  "language_info": {
   "codemirror_mode": {
    "name": "ipython",
    "version": 3
   },
   "file_extension": ".py",
   "mimetype": "text/x-python",
   "name": "python",
   "nbconvert_exporter": "python",
   "pygments_lexer": "ipython3",
   "version": "3.8.5"
  }
 },
 "nbformat": 4,
 "nbformat_minor": 4
}
